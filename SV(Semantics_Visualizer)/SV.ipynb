{
 "cells": [
  {
   "cell_type": "code",
   "execution_count": null,
   "id": "35f4d94a",
   "metadata": {},
   "outputs": [],
   "source": [
    "# Tool for dimensionality reduction\n",
    "from sklearn.decomposition import PCA\n",
    "import matplotlib.pyplot as plt\n",
    "# A class to load and work with pre-trained word embeddings\n",
    "from gensim.models import KeyedVectors\n",
    "\n",
    "# Load pre-trained word2vec model trained on Google News Data\n",
    "# https://drive.google.com/file/d/0B7XkCwpI5KDYNlNUTTlSS21pQmM/edit?usp=sharing\n",
    "# The file contains word embeddings where each word is represented as a 300-dimensional vector\n",
    "model = KeyedVectors.load_word2vec_format('/home/gad/Documents/OFFLINE REPOS/FoNu_NLP_TG/SV(Semantics_Visualizer)/GoogleNews-vectors-negative300.bin', binary=True)\n",
    "\n",
    "words = ['king', 'queen', 'man', 'woman', 'prince', 'princess', 'boy', 'girl']\n",
    "vectors = [model[word] for word in words]\n",
    "\n",
    "# PCA object to reduce the data to 2 dimensions (so it can be plotted in a 2D space)\n",
    "pca = PCA(n_components=2)\n",
    "# Transform the vectors to 2 dimensions\n",
    "reduced_vectors = pca.fit_transform(vectors)\n",
    "\n",
    "plt.figure(figsize=(8, 6))\n",
    "for i, word in enumerate(words):\n",
    "    plt.scatter(reduced_vectors[i, 0], reduced_vectors[i, 1])\n",
    "    plt.annotate(word, (reduced_vectors[i, 0], reduced_vectors[i, 1]))\n",
    "\n",
    "plt.title('Semantic Relationships between Words')\n",
    "plt.xlabel('Principal Component 1')\n",
    "plt.ylabel('Principal Component 2')\n",
    "plt.show()"
   ]
  }
 ],
 "metadata": {
  "kernelspec": {
   "display_name": "Python 3 (ipykernel)",
   "language": "python",
   "name": "python3"
  }
 },
 "nbformat": 4,
 "nbformat_minor": 5
}
