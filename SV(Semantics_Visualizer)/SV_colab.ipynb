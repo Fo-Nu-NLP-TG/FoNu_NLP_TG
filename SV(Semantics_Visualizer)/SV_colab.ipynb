# Create this new file for Colab compatibility
# In VS Code, you can run this with the Jupyter extension

# Tool for dimensionality reduction
from sklearn.decomposition import PCA
import matplotlib.pyplot as plt
# A class to load and work with pre-trained word embeddings
from gensim.models import KeyedVectors
from google.colab import files
import io

# Download the model in Colab
!wget -O GoogleNews-vectors-negative300.bin.gz https://s3.amazonaws.com/dl4j-distribution/GoogleNews-vectors-negative300.bin.gz
!gunzip GoogleNews-vectors-negative300.bin.gz

# Load pre-trained word2vec model
model = KeyedVectors.load_word2vec_format('GoogleNews-vectors-negative300.bin', binary=True)

words = ['king', 'queen', 'man', 'woman', 'prince', 'princess', 'boy', 'girl']
vectors = [model[word] for word in words]

# PCA object to reduce the data to 2 dimensions
pca = PCA(n_components=2)
# Transform the vectors to 2 dimensions
reduced_vectors = pca.fit_transform(vectors)

plt.figure(figsize=(8, 6))
for i, word in enumerate(words):
    plt.scatter(reduced_vectors[i, 0], reduced_vectors[i, 1])
    plt.annotate(word, (reduced_vectors[i, 0], reduced_vectors[i, 1]))

plt.title('Semantic Relationships between Words')
plt.xlabel('Principal Component 1')
plt.ylabel('Principal Component 2')

# Save figure and download
plt.savefig('semantic_viz.png')
files.download('semantic_viz.png')  # This will download to your local machine
plt.show()